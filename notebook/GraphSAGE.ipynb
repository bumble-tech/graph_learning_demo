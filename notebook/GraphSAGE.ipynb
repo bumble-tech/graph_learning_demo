{
 "cells": [
  {
   "cell_type": "code",
   "execution_count": null,
   "id": "b22fa7f2-9a31-4475-85d9-796afc0a643f",
   "metadata": {
    "tags": []
   },
   "outputs": [],
   "source": [
    "from utils import preprocess_features, create_graph\n",
    "\n",
    "import pandas as pd"
   ]
  },
  {
   "cell_type": "code",
   "execution_count": null,
   "id": "d0857310-8a54-4e93-8982-2b2341380932",
   "metadata": {},
   "outputs": [],
   "source": [
    "features = pd.read_csv('../data/large_twitch_features.csv')\n",
    "edges = pd.read_csv('../data/large_twitch_edges.csv')\n",
    "\n",
    "features = preprocess_features(features)\n",
    "g, reverse_eids = create_graph(edges=edges, nodes=features)"
   ]
  },
  {
   "cell_type": "code",
   "execution_count": null,
   "id": "1ce16b5d-003c-42bd-99e6-214c4f9e7b0e",
   "metadata": {},
   "outputs": [],
   "source": [
    "from utils import train, _initialise_training, _run_one_epoch\n",
    "\n",
    "model, dataloader, optimizer = _initialise_training(\n",
    "        g, reverse_eids, 'cuda',  \n",
    "        n_hidden=64, learning_rate=1e-6, graph_sampling_size=[15, 5],\n",
    "        negative_sample_size=3, weight_decay=1e-5, data_batch_size=512\n",
    "    )"
   ]
  },
  {
   "cell_type": "code",
   "execution_count": null,
   "id": "e0a570a0-7b6c-4775-8138-2aaf8801a05f",
   "metadata": {},
   "outputs": [],
   "source": [
    "len(dataloader)"
   ]
  },
  {
   "cell_type": "code",
   "execution_count": null,
   "id": "6c92dd12-4601-4a59-985b-1ee444bc8eb3",
   "metadata": {
    "tags": []
   },
   "outputs": [],
   "source": [
    "for epoch in range(5):\n",
    "    print('epoch', epoch)\n",
    "    model.train()\n",
    "    model, optimizer, loss = _run_one_epoch(\n",
    "        model=model,\n",
    "        optimizer=optimizer,\n",
    "        dataloader=dataloader,\n",
    "        verbose = 2000,\n",
    "        n_optimizer_steps=10000\n",
    "    )\n",
    "    print('loss', loss)"
   ]
  },
  {
   "cell_type": "code",
   "execution_count": null,
   "id": "ab53b4ff-f0f0-4c79-bbef-8f3629f407e0",
   "metadata": {},
   "outputs": [],
   "source": [
    "import pickle\n",
    "from dgl.data.utils import save_graphs\n",
    "\n",
    "save_graphs('graph.bin', [g])\n",
    "\n",
    "with open(\"model.pkl\", \"wb\") as stream:\n",
    "        pickle.dump(model, stream)"
   ]
  },
  {
   "cell_type": "code",
   "execution_count": null,
   "id": "8737fa74-87eb-4c3f-954c-4e510de3561e",
   "metadata": {
    "tags": []
   },
   "outputs": [],
   "source": [
    "import torch\n",
    "\n",
    "with torch.no_grad():\n",
    "    node_emb = model.inference(g, device='cuda').numpy()"
   ]
  },
  {
   "cell_type": "markdown",
   "id": "894d8976-8ee1-4b43-b58e-13e2cc1f469b",
   "metadata": {},
   "source": [
    "# Predict Example"
   ]
  },
  {
   "cell_type": "code",
   "execution_count": null,
   "id": "842513ed-a178-4c16-a92a-6b14bebc5849",
   "metadata": {},
   "outputs": [],
   "source": []
  },
  {
   "cell_type": "markdown",
   "id": "f97f5d37-67fe-4adf-8797-2236226dee34",
   "metadata": {},
   "source": [
    "# Visualisations"
   ]
  },
  {
   "cell_type": "code",
   "execution_count": null,
   "id": "e631d912-ff20-42a0-9817-534229c8c19b",
   "metadata": {},
   "outputs": [],
   "source": [
    "import pandas as pd\n",
    "\n",
    "edges = pd.read_csv('../data/large_twitch_edges.csv')"
   ]
  },
  {
   "cell_type": "code",
   "execution_count": null,
   "id": "672e4cdc-d987-4fb0-bd35-384829fa86ba",
   "metadata": {},
   "outputs": [],
   "source": [
    "sample_edges = edges.sample(100)\n",
    "\n",
    "import networkx as nx\n",
    "G = nx.from_pandas_edgelist(\n",
    "    sample_edges,\n",
    "    source='numeric_id_1',\n",
    "    target='numeric_id_2'\n",
    ")\n",
    "\n",
    "nx.draw_networkx(G)"
   ]
  },
  {
   "cell_type": "code",
   "execution_count": null,
   "id": "fc5b173b-156e-4d62-a248-098180bc089a",
   "metadata": {},
   "outputs": [],
   "source": [
    "import networkx as nx\n",
    "from pyviz.network import Network\n",
    "\n",
    "G = nx.from_pandas_edgelist(\n",
    "    sample_edges,\n",
    "    source='numeric_id_1',\n",
    "    target='numeric_id_2'\n",
    ")\n",
    "net = Network(notebook=True)\n",
    "net.from_nx(G)\n",
    "net.show('graph.html')"
   ]
  },
  {
   "cell_type": "code",
   "execution_count": null,
   "id": "753ae31f-0a33-471e-8146-c876508c7a63",
   "metadata": {},
   "outputs": [],
   "source": []
  }
 ],
 "metadata": {
  "kernelspec": {
   "display_name": "Python 3",
   "language": "python",
   "name": "python3"
  },
  "language_info": {
   "codemirror_mode": {
    "name": "ipython",
    "version": 3
   },
   "file_extension": ".py",
   "mimetype": "text/x-python",
   "name": "python",
   "nbconvert_exporter": "python",
   "pygments_lexer": "ipython3",
   "version": "3.8.10"
  }
 },
 "nbformat": 4,
 "nbformat_minor": 5
}
