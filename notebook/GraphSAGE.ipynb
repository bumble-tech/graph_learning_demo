{
 "cells": [
  {
   "cell_type": "code",
   "execution_count": 1,
   "id": "b22fa7f2-9a31-4475-85d9-796afc0a643f",
   "metadata": {
    "tags": []
   },
   "outputs": [],
   "source": [
    "from utils import preprocess_features, create_graph\n",
    "from utils import train, _initialise_training, _run_one_epoch\n",
    "\n",
    "import pandas as pd\n",
    "import pickle\n",
    "from dgl.data.utils import save_graphs\n",
    "import torch\n",
    "\n",
    "device = 'cuda'"
   ]
  },
  {
   "cell_type": "code",
   "execution_count": 2,
   "id": "d0857310-8a54-4e93-8982-2b2341380932",
   "metadata": {},
   "outputs": [
    {
     "name": "stdout",
     "output_type": "stream",
     "text": [
      "nodes shape, (168114, 30)\n",
      "(6117801, 2) (679756, 2)\n",
      "Creating network graph...\n",
      "number of nodes 168114\n",
      "number of edges 6117801\n",
      "making the graph bi-directional...\n",
      "number of edges 12235602\n"
     ]
    }
   ],
   "source": [
    "features = pd.read_csv('../data/large_twitch_features.csv')\n",
    "features = preprocess_features(features)\n",
    "\n",
    "edges = pd.read_csv('../data/large_twitch_edges.csv')\n",
    "train_index = edges.index.to_series().sample(frac=0.9)\n",
    "test_mask = ~edges.index.isin(train_index)\n",
    "train_edges = edges.loc[train_index]\n",
    "test_edges = edges.loc[test_mask]\n",
    "print(train_edges.shape, test_edges.shape)\n",
    "\n",
    "g, reverse_eids = create_graph(edges=train_edges, nodes=features)"
   ]
  },
  {
   "cell_type": "code",
   "execution_count": 3,
   "id": "1ce16b5d-003c-42bd-99e6-214c4f9e7b0e",
   "metadata": {},
   "outputs": [],
   "source": [
    "# previous params: 128, [15, 10], 5\n",
    "model, dataloader, optimizer = _initialise_training(\n",
    "        g, reverse_eids, 'cuda',  \n",
    "        n_hidden=128, learning_rate=2e-6, graph_sampling_size=[25, 15, 10],\n",
    "        negative_sample_size=10, weight_decay=1e-5, data_batch_size=512\n",
    "    )"
   ]
  },
  {
   "cell_type": "code",
   "execution_count": 4,
   "id": "6c92dd12-4601-4a59-985b-1ee444bc8eb3",
   "metadata": {
    "tags": []
   },
   "outputs": [
    {
     "name": "stdout",
     "output_type": "stream",
     "text": [
      "epoch 0\n",
      "Loss 2447.21923828125, GPU Mem 1473.340416MB\n",
      "Loss 1273.1500244140625, GPU Mem 1473.340416MB\n",
      "Loss 916.4365234375, GPU Mem 1473.340416MB\n",
      "Loss 757.7429809570312, GPU Mem 1473.340416MB\n",
      "Loss 558.6323852539062, GPU Mem 1473.340416MB\n",
      "Loss 581.7922973632812, GPU Mem 1473.340416MB\n",
      "Loss 476.8440246582031, GPU Mem 1473.340416MB\n",
      "Loss 456.7908630371094, GPU Mem 1473.340416MB\n",
      "Loss 432.8096618652344, GPU Mem 1474.479104MB\n",
      "Loss 426.6023864746094, GPU Mem 1474.479104MB\n",
      "Loss 382.36688232421875, GPU Mem 1474.479104MB\n",
      "loss 380.7869567871094\n",
      "epoch 1\n",
      "Loss 325.0823974609375, GPU Mem 1474.479104MB\n",
      "Loss 320.12957763671875, GPU Mem 1474.479104MB\n",
      "Loss 329.7298889160156, GPU Mem 1474.479104MB\n",
      "Loss 290.4817199707031, GPU Mem 1474.479104MB\n",
      "Loss 281.629150390625, GPU Mem 1474.479104MB\n",
      "Loss 286.8534240722656, GPU Mem 1474.479104MB\n",
      "Loss 285.7391662597656, GPU Mem 1474.479104MB\n",
      "Loss 275.6644592285156, GPU Mem 1474.479104MB\n",
      "Loss 274.3777160644531, GPU Mem 1474.479104MB\n",
      "Loss 239.43392944335938, GPU Mem 1474.479104MB\n",
      "Loss 237.07431030273438, GPU Mem 1474.479104MB\n",
      "loss 232.38162231445312\n",
      "epoch 2\n",
      "Loss 243.53309631347656, GPU Mem 1474.479104MB\n",
      "Loss 222.284423828125, GPU Mem 1474.479104MB\n",
      "Loss 242.1656036376953, GPU Mem 1474.479104MB\n",
      "Loss 213.07244873046875, GPU Mem 1474.479104MB\n",
      "Loss 218.08102416992188, GPU Mem 1474.479104MB\n",
      "Loss 219.45814514160156, GPU Mem 1474.479104MB\n",
      "Loss 212.72293090820312, GPU Mem 1474.479104MB\n",
      "Loss 208.1634979248047, GPU Mem 1474.479104MB\n",
      "Loss 184.0707550048828, GPU Mem 1474.479104MB\n",
      "Loss 184.79177856445312, GPU Mem 1474.479104MB\n",
      "Loss 196.79490661621094, GPU Mem 1474.479104MB\n",
      "loss 176.20687866210938\n",
      "epoch 3\n",
      "Loss 199.09481811523438, GPU Mem 1474.479104MB\n",
      "Loss 177.3844451904297, GPU Mem 1474.479104MB\n",
      "Loss 172.94113159179688, GPU Mem 1474.479104MB\n",
      "Loss 173.85922241210938, GPU Mem 1474.479104MB\n",
      "Loss 152.5742950439453, GPU Mem 1474.479104MB\n",
      "Loss 167.446533203125, GPU Mem 1474.479104MB\n",
      "Loss 162.64346313476562, GPU Mem 1474.479104MB\n",
      "Loss 173.3522186279297, GPU Mem 1474.479104MB\n",
      "Loss 141.12205505371094, GPU Mem 1474.479104MB\n",
      "Loss 148.5351104736328, GPU Mem 1474.479104MB\n",
      "Loss 148.0547332763672, GPU Mem 1474.479104MB\n",
      "loss 149.5588836669922\n",
      "epoch 4\n",
      "Loss 139.74285888671875, GPU Mem 1474.479104MB\n",
      "Loss 144.9875946044922, GPU Mem 1474.479104MB\n",
      "Loss 115.66529846191406, GPU Mem 1474.479104MB\n",
      "Loss 145.77392578125, GPU Mem 1474.479104MB\n",
      "Loss 138.7235107421875, GPU Mem 1474.479104MB\n",
      "Loss 131.88284301757812, GPU Mem 1474.479104MB\n",
      "Loss 176.8192596435547, GPU Mem 1474.479104MB\n",
      "Loss 138.203369140625, GPU Mem 1474.479104MB\n",
      "Loss 131.22019958496094, GPU Mem 1474.479104MB\n",
      "Loss 130.0014190673828, GPU Mem 1474.479104MB\n",
      "Loss 121.49755859375, GPU Mem 1474.479104MB\n",
      "loss 126.57064819335938\n",
      "epoch 5\n",
      "Loss 115.25402069091797, GPU Mem 1474.479104MB\n",
      "Loss 119.48590850830078, GPU Mem 1474.479104MB\n",
      "Loss 109.21580505371094, GPU Mem 1474.479104MB\n",
      "Loss 114.72692108154297, GPU Mem 1474.479104MB\n",
      "Loss 110.93284606933594, GPU Mem 1474.479104MB\n",
      "Loss 98.62985229492188, GPU Mem 1474.479104MB\n",
      "Loss 107.92330169677734, GPU Mem 1474.479104MB\n",
      "Loss 126.008056640625, GPU Mem 1474.479104MB\n",
      "Loss 105.30516052246094, GPU Mem 1474.479104MB\n",
      "Loss 92.79825592041016, GPU Mem 1474.479104MB\n",
      "Loss 105.92842864990234, GPU Mem 1474.479104MB\n",
      "loss 87.86227416992188\n",
      "epoch 6\n",
      "Loss 109.708740234375, GPU Mem 1474.479104MB\n",
      "Loss 80.67291259765625, GPU Mem 1474.479104MB\n",
      "Loss 100.73531341552734, GPU Mem 1474.479104MB\n",
      "Loss 106.12389373779297, GPU Mem 1474.479104MB\n",
      "Loss 102.85653686523438, GPU Mem 1474.479104MB\n",
      "Loss 103.5654525756836, GPU Mem 1474.479104MB\n",
      "Loss 100.19860076904297, GPU Mem 1474.479104MB\n",
      "Loss 103.52227783203125, GPU Mem 1474.479104MB\n",
      "Loss 98.97743225097656, GPU Mem 1474.479104MB\n",
      "Loss 91.79239654541016, GPU Mem 1474.479104MB\n",
      "Loss 112.89090728759766, GPU Mem 1474.479104MB\n",
      "loss 90.90619659423828\n",
      "epoch 7\n",
      "Loss 98.60382843017578, GPU Mem 1474.586624MB\n",
      "Loss 97.80755615234375, GPU Mem 1474.586624MB\n",
      "Loss 80.77835845947266, GPU Mem 1474.586624MB\n",
      "Loss 96.37725830078125, GPU Mem 1474.586624MB\n",
      "Loss 87.85220336914062, GPU Mem 1474.586624MB\n",
      "Loss 87.75768280029297, GPU Mem 1474.586624MB\n",
      "Loss 82.47731018066406, GPU Mem 1474.586624MB\n",
      "Loss 80.80799865722656, GPU Mem 1474.586624MB\n",
      "Loss 87.97005462646484, GPU Mem 1474.586624MB\n",
      "Loss 78.7945327758789, GPU Mem 1474.586624MB\n",
      "Loss 86.19134521484375, GPU Mem 1474.586624MB\n",
      "loss 72.80233764648438\n",
      "epoch 8\n",
      "Loss 74.57726287841797, GPU Mem 1474.586624MB\n",
      "Loss 73.42758178710938, GPU Mem 1474.586624MB\n",
      "Loss 75.16649627685547, GPU Mem 1474.586624MB\n",
      "Loss 79.25802612304688, GPU Mem 1474.586624MB\n",
      "Loss 90.63131713867188, GPU Mem 1474.586624MB\n",
      "Loss 72.69281005859375, GPU Mem 1474.586624MB\n",
      "Loss 89.23299407958984, GPU Mem 1474.586624MB\n",
      "Loss 68.48441314697266, GPU Mem 1474.586624MB\n",
      "Loss 67.89349365234375, GPU Mem 1474.586624MB\n",
      "Loss 84.96324920654297, GPU Mem 1474.586624MB\n",
      "Loss 69.8696060180664, GPU Mem 1474.586624MB\n",
      "loss 75.54765319824219\n",
      "epoch 9\n",
      "Loss 68.61187744140625, GPU Mem 1474.586624MB\n",
      "Loss 72.98736572265625, GPU Mem 1474.586624MB\n",
      "Loss 69.29505157470703, GPU Mem 1474.586624MB\n",
      "Loss 78.42060089111328, GPU Mem 1474.586624MB\n",
      "Loss 85.3887939453125, GPU Mem 1474.586624MB\n",
      "Loss 75.70729064941406, GPU Mem 1474.586624MB\n",
      "Loss 64.63713073730469, GPU Mem 1474.586624MB\n",
      "Loss 63.08201217651367, GPU Mem 1474.586624MB\n",
      "Loss 67.18843078613281, GPU Mem 1474.586624MB\n",
      "Loss 65.6119155883789, GPU Mem 1474.586624MB\n",
      "Loss 59.90403747558594, GPU Mem 1474.586624MB\n",
      "loss 66.15323638916016\n",
      "epoch 10\n",
      "Loss 59.27360153198242, GPU Mem 1474.586624MB\n",
      "Loss 54.128013610839844, GPU Mem 1474.586624MB\n",
      "Loss 64.7938003540039, GPU Mem 1474.586624MB\n",
      "Loss 55.83808135986328, GPU Mem 1474.586624MB\n",
      "Loss 58.156463623046875, GPU Mem 1474.586624MB\n",
      "Loss 55.520198822021484, GPU Mem 1474.586624MB\n",
      "Loss 68.82051086425781, GPU Mem 1474.586624MB\n",
      "Loss 64.38573455810547, GPU Mem 1474.586624MB\n",
      "Loss 55.31451416015625, GPU Mem 1474.586624MB\n",
      "Loss 81.04435729980469, GPU Mem 1474.586624MB\n",
      "Loss 59.02912139892578, GPU Mem 1474.586624MB\n",
      "loss 59.363197326660156\n",
      "epoch 11\n",
      "Loss 72.17144012451172, GPU Mem 1474.586624MB\n",
      "Loss 53.17197036743164, GPU Mem 1474.586624MB\n",
      "Loss 55.73175048828125, GPU Mem 1474.586624MB\n",
      "Loss 67.74278259277344, GPU Mem 1474.586624MB\n",
      "Loss 63.73527526855469, GPU Mem 1474.586624MB\n",
      "Loss 49.164215087890625, GPU Mem 1474.586624MB\n",
      "Loss 60.38712692260742, GPU Mem 1474.586624MB\n",
      "Loss 54.455833435058594, GPU Mem 1474.586624MB\n",
      "Loss 53.90913009643555, GPU Mem 1474.586624MB\n",
      "Loss 53.0419921875, GPU Mem 1474.586624MB\n",
      "Loss 57.09613800048828, GPU Mem 1474.586624MB\n",
      "loss 55.45256042480469\n",
      "epoch 12\n",
      "Loss 81.0230941772461, GPU Mem 1474.586624MB\n",
      "Loss 78.9083023071289, GPU Mem 1474.586624MB\n",
      "Loss 61.54019546508789, GPU Mem 1474.586624MB\n",
      "Loss 64.38031768798828, GPU Mem 1474.586624MB\n",
      "Loss 48.45969772338867, GPU Mem 1474.586624MB\n",
      "Loss 43.5560302734375, GPU Mem 1474.586624MB\n",
      "Loss 60.25498580932617, GPU Mem 1474.586624MB\n",
      "Loss 45.597042083740234, GPU Mem 1474.586624MB\n",
      "Loss 55.93431091308594, GPU Mem 1474.586624MB\n",
      "Loss 53.7837028503418, GPU Mem 1474.586624MB\n",
      "Loss 49.00257110595703, GPU Mem 1474.586624MB\n",
      "loss 44.20351028442383\n",
      "epoch 13\n",
      "Loss 46.05522155761719, GPU Mem 1474.586624MB\n",
      "Loss 55.966583251953125, GPU Mem 1474.586624MB\n",
      "Loss 50.2189826965332, GPU Mem 1474.586624MB\n",
      "Loss 43.75725173950195, GPU Mem 1474.586624MB\n",
      "Loss 48.884666442871094, GPU Mem 1474.586624MB\n",
      "Loss 43.44257354736328, GPU Mem 1474.586624MB\n",
      "Loss 51.869712829589844, GPU Mem 1474.586624MB\n",
      "Loss 40.12276077270508, GPU Mem 1474.586624MB\n",
      "Loss 54.20152282714844, GPU Mem 1474.586624MB\n",
      "Loss 76.81127166748047, GPU Mem 1474.586624MB\n",
      "Loss 55.74535369873047, GPU Mem 1474.586624MB\n",
      "loss 47.49140167236328\n",
      "epoch 14\n",
      "Loss 45.708274841308594, GPU Mem 1474.586624MB\n",
      "Loss 58.07819747924805, GPU Mem 1474.586624MB\n",
      "Loss 41.984989166259766, GPU Mem 1474.586624MB\n",
      "Loss 37.956634521484375, GPU Mem 1474.586624MB\n",
      "Loss 47.236053466796875, GPU Mem 1474.586624MB\n",
      "Loss 64.67252349853516, GPU Mem 1474.586624MB\n",
      "Loss 41.84435272216797, GPU Mem 1474.586624MB\n",
      "Loss 58.09759521484375, GPU Mem 1474.586624MB\n",
      "Loss 45.01787185668945, GPU Mem 1474.586624MB\n",
      "Loss 40.6829719543457, GPU Mem 1474.586624MB\n",
      "Loss 38.44055938720703, GPU Mem 1474.586624MB\n",
      "loss 51.9770622253418\n",
      "CPU times: user 2h 4min 23s, sys: 13.7 s, total: 2h 4min 37s\n",
      "Wall time: 2h 5min 42s\n"
     ]
    }
   ],
   "source": [
    "%%time\n",
    "for epoch in range(15):\n",
    "    print('epoch', epoch)\n",
    "    model.train()\n",
    "    model, optimizer, loss = _run_one_epoch(\n",
    "        model=model,\n",
    "        optimizer=optimizer,\n",
    "        dataloader=dataloader,\n",
    "        verbose = 2000,\n",
    "#         n_optimizer_steps=10000\n",
    "    )\n",
    "    print('loss', loss)"
   ]
  },
  {
   "cell_type": "code",
   "execution_count": 5,
   "id": "ab53b4ff-f0f0-4c79-bbef-8f3629f407e0",
   "metadata": {},
   "outputs": [
    {
     "name": "stdout",
     "output_type": "stream",
     "text": [
      "torch.Size([168114, 30])\n"
     ]
    },
    {
     "name": "stderr",
     "output_type": "stream",
     "text": [
      "100%|██████████| 132/132 [00:21<00:00,  6.17it/s]\n",
      "  0%|          | 0/132 [00:00<?, ?it/s]"
     ]
    },
    {
     "name": "stdout",
     "output_type": "stream",
     "text": [
      "torch.Size([168114, 128])\n"
     ]
    },
    {
     "name": "stderr",
     "output_type": "stream",
     "text": [
      "100%|██████████| 132/132 [00:19<00:00,  6.79it/s]\n",
      "  0%|          | 0/132 [00:00<?, ?it/s]"
     ]
    },
    {
     "name": "stdout",
     "output_type": "stream",
     "text": [
      "torch.Size([168114, 128])\n"
     ]
    },
    {
     "name": "stderr",
     "output_type": "stream",
     "text": [
      "100%|██████████| 132/132 [00:21<00:00,  6.28it/s]\n"
     ]
    }
   ],
   "source": [
    "save_graphs('graph.bin', [g])\n",
    "with open(\"model.pkl\", \"wb\") as stream:\n",
    "    pickle.dump(model, stream)\n",
    "    \n",
    "\n",
    "with torch.no_grad():\n",
    "    node_emb = model.inference(g, device='cuda').numpy()\n",
    "    \n",
    "with open('embeddings.pkl', 'wb') as f:\n",
    "    pickle.dump(node_emb, f)"
   ]
  },
  {
   "cell_type": "markdown",
   "id": "e0485c80-7228-4a46-a844-9d19f0f23474",
   "metadata": {},
   "source": [
    "## Evaluatoin"
   ]
  },
  {
   "cell_type": "markdown",
   "id": "d6aec454-f294-47c7-afeb-73d92c08b1e2",
   "metadata": {},
   "source": [
    "### Create evaluation dataset"
   ]
  },
  {
   "cell_type": "code",
   "execution_count": 3,
   "id": "bf58064f-e552-4629-bc72-c61c37909f23",
   "metadata": {
    "jupyter": {
     "source_hidden": true
    },
    "tags": []
   },
   "outputs": [],
   "source": [
    "%%time\n",
    "def create_evaluation_dataset(test_edges, unique_users):\n",
    "    # a sequence includes 5 positive samples + 5 negative samples\n",
    "    from numpy import random\n",
    "    from tqdm import tqdm\n",
    "    \n",
    "    groupby = test_edges.groupby('numeric_id_1')\n",
    "    unique_users = set(unique_users)\n",
    "\n",
    "    def _sample_users(sub_df, unique_users):        \n",
    "        positives = sub_df.loc[:, 'numeric_id_2'].values\n",
    "        negatives = list(unique_users.difference(positives))\n",
    "        users = list(random.choice(positives, 5)) + list(random.choice(negatives, 5))\n",
    "\n",
    "        return users\n",
    "    from pandarallel import pandarallel\n",
    "    pandarallel.initialize()\n",
    "    sampled_users = groupby.parallel_apply(lambda sub_df: _sample_users(sub_df, unique_users))\n",
    "    return sampled_users\n",
    "\n",
    "\n",
    "eval_dataset = create_evaluation_dataset(test_edges, edges['numeric_id_2'].unique())\n",
    "pickle.dump(eval_dataset, open('eval_dataset.pkl', 'wb'))"
   ]
  },
  {
   "cell_type": "code",
   "execution_count": 6,
   "id": "aa8be9e3-4a74-4f30-9a95-86e1fe11a293",
   "metadata": {},
   "outputs": [
    {
     "data": {
      "text/plain": [
       "True"
      ]
     },
     "execution_count": 6,
     "metadata": {},
     "output_type": "execute_result"
    }
   ],
   "source": [
    "import pickle\n",
    "import numpy as np\n",
    "\n",
    "node_emb = pickle.load(open('embeddings.pkl', 'rb'))\n",
    "model = pickle.load(open('model.pkl', 'rb'))\n",
    "eval_dataset = pickle.load(open('eval_dataset.pkl', 'rb'))\n",
    "\n",
    "\n",
    "first_player_embeddings = np.vstack([\n",
    "    np.repeat(node_emb[x].reshape(1, -1), 10, axis=0) for x in eval_dataset.index\n",
    "])\n",
    "second_player_embeddings = np.vstack([node_emb[x] for x in eval_dataset])\n",
    "second_player_embeddings.shape == first_player_embeddings.shape"
   ]
  },
  {
   "cell_type": "code",
   "execution_count": 7,
   "id": "221f0c80-6bbc-413f-a326-598f8fae6f00",
   "metadata": {},
   "outputs": [
    {
     "name": "stdout",
     "output_type": "stream",
     "text": [
      "CPU times: user 144 ms, sys: 3.03 ms, total: 147 ms\n",
      "Wall time: 147 ms\n"
     ]
    },
    {
     "data": {
      "text/plain": [
       "True"
      ]
     },
     "execution_count": 7,
     "metadata": {},
     "output_type": "execute_result"
    }
   ],
   "source": [
    "%%time\n",
    "import torch\n",
    "\n",
    "predictions = model.predict(\n",
    "    torch.from_numpy(first_player_embeddings).to(device), \n",
    "    torch.from_numpy(second_player_embeddings).to(device)\n",
    ")\n",
    "predictions = predictions.view(-1, 10).detach().cpu().numpy()\n",
    "\n",
    "labels = np.hstack([\n",
    "    np.ones((eval_dataset.shape[0], 5)),\n",
    "    np.zeros((eval_dataset.shape[0], 5))\n",
    "])\n",
    "\n",
    "labels.shape == predictions.shape"
   ]
  },
  {
   "cell_type": "markdown",
   "id": "579fd5a1-bda7-4f23-aef5-7a49a8be3de3",
   "metadata": {},
   "source": [
    "### Evaluate: NDCG, AUC"
   ]
  },
  {
   "cell_type": "code",
   "execution_count": 8,
   "id": "3062575b-c23a-4305-ab9c-7173429b92b8",
   "metadata": {},
   "outputs": [
    {
     "name": "stdout",
     "output_type": "stream",
     "text": [
      "GraphSAGE\n",
      "ndcg 0.7880885135280676\n",
      "auc 0.58878819527459\n"
     ]
    }
   ],
   "source": [
    "from sklearn.metrics import ndcg_score, roc_auc_score\n",
    "\n",
    "ndcg = ndcg_score(labels, predictions)\n",
    "auc = roc_auc_score(labels.flatten(), predictions.flatten())\n",
    "print('GraphSAGE')\n",
    "print('ndcg', ndcg)\n",
    "print('auc', auc)"
   ]
  },
  {
   "cell_type": "code",
   "execution_count": 9,
   "id": "ecf7df12-084f-4a9d-9768-0c82d98e48b7",
   "metadata": {},
   "outputs": [
    {
     "name": "stdout",
     "output_type": "stream",
     "text": [
      "GraphSAGE\n",
      "ndcg 0.8150392433288077\n",
      "auc 0.6731400847677065\n"
     ]
    }
   ],
   "source": [
    "ndcgs = []\n",
    "aucs = []\n",
    "for row in range(labels.shape[0]):\n",
    "    ndcgs.append(ndcg_score(labels[row].reshape(1, -1), predictions[row].reshape(1, -1)))\n",
    "    aucs.append(roc_auc_score(labels[row], predictions[row]))\n",
    "\n",
    "print('GraphSAGE')\n",
    "print('ndcg', np.mean(ndcgs))\n",
    "print('auc', np.mean(aucs))"
   ]
  },
  {
   "cell_type": "code",
   "execution_count": null,
   "id": "3f26b7ef-c756-48f0-9b3f-0c20b72c0363",
   "metadata": {},
   "outputs": [
    {
     "name": "stdout",
     "output_type": "stream",
     "text": [
      "ndcg 0.770862998527735\n",
      "auc 0.5006931327255134\n",
      "CPU times: user 1min 33s, sys: 127 ms, total: 1min 33s\n",
      "Wall time: 1min 34s\n"
     ]
    }
   ],
   "source": [
    "%%time\n",
    "from numpy import random\n",
    "random_predictions = random.rand(*labels.shape)\n",
    "\n",
    "ndcgs = []\n",
    "aucs = []\n",
    "for row in range(labels.shape[0]):\n",
    "    ndcgs.append(ndcg_score(labels[row].reshape(1, -1), random_predictions[row].reshape(1, -1)))\n",
    "    aucs.append(roc_auc_score(labels[row], random_predictions[row]))\n",
    "    \n",
    "print('ndcg', np.mean(ndcgs))\n",
    "print('auc', np.mean(aucs))"
   ]
  },
  {
   "cell_type": "code",
   "execution_count": 46,
   "id": "5bf14e58-6bdb-4da8-a706-efffdbb2c7e1",
   "metadata": {},
   "outputs": [
    {
     "name": "stdout",
     "output_type": "stream",
     "text": [
      "ndcg 1.0\n",
      "auc 1.0\n",
      "CPU times: user 1min 32s, sys: 23.8 ms, total: 1min 32s\n",
      "Wall time: 1min 33s\n"
     ]
    }
   ],
   "source": [
    "%%time\n",
    "perfect_predictions = 1 / (np.ones(labels.shape) * range(1, 11)\n",
    "\n",
    "ndcgs = []\n",
    "aucs = []\n",
    "for row in range(labels.shape[0]):\n",
    "    ndcgs.append(ndcg_score(labels[row].reshape(1, -1), perfect_predictions[row].reshape(1, -1)))\n",
    "    aucs.append(roc_auc_score(labels[row], perfect_predictions[row]))\n",
    "    \n",
    "print('ndcg', np.mean(ndcgs))\n",
    "print('auc', np.mean(aucs))"
   ]
  },
  {
   "cell_type": "code",
   "execution_count": null,
   "id": "0920f8d9-92ff-4ae0-8b3b-b5a21c4f9102",
   "metadata": {},
   "outputs": [],
   "source": [
    "# Theoretical best performance: 1\n",
    "# Theoretical worst performance: 0"
   ]
  },
  {
   "cell_type": "markdown",
   "id": "894d8976-8ee1-4b43-b58e-13e2cc1f469b",
   "metadata": {},
   "source": [
    "# Predict Example"
   ]
  },
  {
   "cell_type": "code",
   "execution_count": 1,
   "id": "842513ed-a178-4c16-a92a-6b14bebc5849",
   "metadata": {},
   "outputs": [],
   "source": [
    "import pickle\n",
    "from utils import load_graph\n",
    "\n",
    "model = pickle.load(open('model.pkl', 'rb'))\n",
    "g = load_graph('graph.bin')"
   ]
  },
  {
   "cell_type": "code",
   "execution_count": 2,
   "id": "2b1874ef-c7e4-4784-b8b6-dcd18aa0a5a7",
   "metadata": {
    "collapsed": true,
    "jupyter": {
     "outputs_hidden": true
    },
    "tags": []
   },
   "outputs": [
    {
     "name": "stdout",
     "output_type": "stream",
     "text": [
      "torch.Size([168114, 30])\n"
     ]
    },
    {
     "name": "stderr",
     "output_type": "stream",
     "text": [
      "100%|██████████| 132/132 [00:22<00:00,  5.98it/s]\n",
      "  0%|          | 0/132 [00:00<?, ?it/s]"
     ]
    },
    {
     "name": "stdout",
     "output_type": "stream",
     "text": [
      "torch.Size([168114, 128])\n"
     ]
    },
    {
     "name": "stderr",
     "output_type": "stream",
     "text": [
      "  1%|          | 1/132 [00:00<00:43,  2.99it/s]"
     ]
    },
    {
     "name": "stdout",
     "output_type": "stream",
     "text": [
      "[Block(num_src_nodes=49920, num_dst_nodes=1280, num_edges=103694)]\n",
      "[Block(num_src_nodes=49699, num_dst_nodes=1280, num_edges=102737)]\n"
     ]
    },
    {
     "name": "stderr",
     "output_type": "stream",
     "text": [
      "  3%|▎         | 4/132 [00:00<00:17,  7.16it/s]"
     ]
    },
    {
     "name": "stdout",
     "output_type": "stream",
     "text": [
      "[Block(num_src_nodes=48889, num_dst_nodes=1280, num_edges=103753)]\n",
      "[Block(num_src_nodes=43975, num_dst_nodes=1280, num_edges=93374)]\n"
     ]
    },
    {
     "name": "stderr",
     "output_type": "stream",
     "text": [
      "  5%|▍         | 6/132 [00:00<00:17,  7.09it/s]"
     ]
    },
    {
     "name": "stdout",
     "output_type": "stream",
     "text": [
      "[Block(num_src_nodes=58951, num_dst_nodes=1280, num_edges=116650)]\n",
      "[Block(num_src_nodes=50010, num_dst_nodes=1280, num_edges=99876)]\n"
     ]
    },
    {
     "name": "stderr",
     "output_type": "stream",
     "text": [
      "  5%|▌         | 7/132 [00:01<00:16,  7.77it/s]"
     ]
    },
    {
     "name": "stdout",
     "output_type": "stream",
     "text": [
      "[Block(num_src_nodes=55076, num_dst_nodes=1280, num_edges=108844)]\n",
      "[Block(num_src_nodes=51530, num_dst_nodes=1280, num_edges=101391)]\n",
      "[Block(num_src_nodes=50593, num_dst_nodes=1280, num_edges=106777)]\n"
     ]
    },
    {
     "name": "stderr",
     "output_type": "stream",
     "text": [
      "  8%|▊         | 11/132 [00:01<00:15,  7.88it/s]"
     ]
    },
    {
     "name": "stdout",
     "output_type": "stream",
     "text": [
      "[Block(num_src_nodes=54107, num_dst_nodes=1280, num_edges=112956)]\n",
      "[Block(num_src_nodes=48201, num_dst_nodes=1280, num_edges=99862)]\n"
     ]
    },
    {
     "name": "stderr",
     "output_type": "stream",
     "text": [
      "  9%|▉         | 12/132 [00:01<00:17,  6.87it/s]"
     ]
    },
    {
     "name": "stdout",
     "output_type": "stream",
     "text": [
      "[Block(num_src_nodes=45009, num_dst_nodes=1280, num_edges=86693)]\n",
      "[Block(num_src_nodes=49678, num_dst_nodes=1280, num_edges=98248)]\n"
     ]
    },
    {
     "name": "stderr",
     "output_type": "stream",
     "text": [
      " 11%|█         | 14/132 [00:01<00:14,  7.92it/s]"
     ]
    },
    {
     "name": "stdout",
     "output_type": "stream",
     "text": [
      "[Block(num_src_nodes=48730, num_dst_nodes=1280, num_edges=101302)]\n",
      "[Block(num_src_nodes=47500, num_dst_nodes=1280, num_edges=96031)]\n"
     ]
    },
    {
     "name": "stderr",
     "output_type": "stream",
     "text": [
      " 13%|█▎        | 17/132 [00:02<00:16,  7.00it/s]"
     ]
    },
    {
     "name": "stdout",
     "output_type": "stream",
     "text": [
      "[Block(num_src_nodes=46419, num_dst_nodes=1280, num_edges=92282)]\n",
      "[Block(num_src_nodes=46832, num_dst_nodes=1280, num_edges=96465)]\n"
     ]
    },
    {
     "name": "stderr",
     "output_type": "stream",
     "text": [
      " 14%|█▍        | 19/132 [00:02<00:13,  8.14it/s]"
     ]
    },
    {
     "name": "stdout",
     "output_type": "stream",
     "text": [
      "[Block(num_src_nodes=46476, num_dst_nodes=1280, num_edges=94859)]\n",
      "[Block(num_src_nodes=47673, num_dst_nodes=1280, num_edges=94131)]\n"
     ]
    },
    {
     "name": "stderr",
     "output_type": "stream",
     "text": [
      " 16%|█▌        | 21/132 [00:03<00:17,  6.26it/s]"
     ]
    },
    {
     "name": "stdout",
     "output_type": "stream",
     "text": [
      "[Block(num_src_nodes=43530, num_dst_nodes=1280, num_edges=85819)]\n",
      "[Block(num_src_nodes=57887, num_dst_nodes=1280, num_edges=115930)]\n"
     ]
    },
    {
     "name": "stderr",
     "output_type": "stream",
     "text": [
      " 17%|█▋        | 23/132 [00:03<00:14,  7.63it/s]"
     ]
    },
    {
     "name": "stdout",
     "output_type": "stream",
     "text": [
      "[Block(num_src_nodes=50016, num_dst_nodes=1280, num_edges=101084)]\n",
      "[Block(num_src_nodes=49492, num_dst_nodes=1280, num_edges=102531)]\n"
     ]
    },
    {
     "name": "stderr",
     "output_type": "stream",
     "text": [
      " 19%|█▉        | 25/132 [00:03<00:15,  6.98it/s]"
     ]
    },
    {
     "name": "stdout",
     "output_type": "stream",
     "text": [
      "[Block(num_src_nodes=51849, num_dst_nodes=1280, num_edges=110198)]\n",
      "[Block(num_src_nodes=58335, num_dst_nodes=1280, num_edges=115175)]\n"
     ]
    },
    {
     "name": "stderr",
     "output_type": "stream",
     "text": [
      " 20%|██        | 27/132 [00:03<00:15,  6.66it/s]"
     ]
    },
    {
     "name": "stdout",
     "output_type": "stream",
     "text": [
      "[Block(num_src_nodes=75042, num_dst_nodes=1280, num_edges=150249)]\n",
      "[Block(num_src_nodes=42601, num_dst_nodes=1280, num_edges=91063)]\n"
     ]
    },
    {
     "name": "stderr",
     "output_type": "stream",
     "text": [
      " 22%|██▏       | 29/132 [00:04<00:15,  6.50it/s]"
     ]
    },
    {
     "name": "stdout",
     "output_type": "stream",
     "text": [
      "[Block(num_src_nodes=55835, num_dst_nodes=1280, num_edges=112044)]\n",
      "[Block(num_src_nodes=42036, num_dst_nodes=1280, num_edges=86417)]\n"
     ]
    },
    {
     "name": "stderr",
     "output_type": "stream",
     "text": [
      " 23%|██▎       | 31/132 [00:04<00:12,  7.90it/s]"
     ]
    },
    {
     "name": "stdout",
     "output_type": "stream",
     "text": [
      "[Block(num_src_nodes=56093, num_dst_nodes=1280, num_edges=118446)]\n",
      "[Block(num_src_nodes=49346, num_dst_nodes=1280, num_edges=103105)]\n"
     ]
    },
    {
     "name": "stderr",
     "output_type": "stream",
     "text": [
      " 25%|██▌       | 33/132 [00:04<00:11,  8.72it/s]"
     ]
    },
    {
     "name": "stdout",
     "output_type": "stream",
     "text": [
      "[Block(num_src_nodes=52348, num_dst_nodes=1280, num_edges=104335)]\n",
      "[Block(num_src_nodes=50422, num_dst_nodes=1280, num_edges=100795)]\n"
     ]
    },
    {
     "name": "stderr",
     "output_type": "stream",
     "text": [
      " 27%|██▋       | 35/132 [00:04<00:12,  7.79it/s]"
     ]
    },
    {
     "name": "stdout",
     "output_type": "stream",
     "text": [
      "[Block(num_src_nodes=49465, num_dst_nodes=1280, num_edges=97991)]\n",
      "[Block(num_src_nodes=47156, num_dst_nodes=1280, num_edges=93670)]\n"
     ]
    },
    {
     "name": "stderr",
     "output_type": "stream",
     "text": [
      " 28%|██▊       | 37/132 [00:05<00:12,  7.42it/s]"
     ]
    },
    {
     "name": "stdout",
     "output_type": "stream",
     "text": [
      "[Block(num_src_nodes=59227, num_dst_nodes=1280, num_edges=121637)]\n",
      "[Block(num_src_nodes=48292, num_dst_nodes=1280, num_edges=99684)]\n"
     ]
    },
    {
     "name": "stderr",
     "output_type": "stream",
     "text": [
      " 30%|██▉       | 39/132 [00:05<00:10,  8.49it/s]"
     ]
    },
    {
     "name": "stdout",
     "output_type": "stream",
     "text": [
      "[Block(num_src_nodes=45299, num_dst_nodes=1280, num_edges=97009)]\n",
      "[Block(num_src_nodes=47679, num_dst_nodes=1280, num_edges=96697)]\n",
      "[Block(num_src_nodes=46187, num_dst_nodes=1280, num_edges=92585)]\n"
     ]
    },
    {
     "name": "stderr",
     "output_type": "stream",
     "text": [
      " 32%|███▏      | 42/132 [00:05<00:11,  7.66it/s]"
     ]
    },
    {
     "name": "stdout",
     "output_type": "stream",
     "text": [
      "[Block(num_src_nodes=47503, num_dst_nodes=1280, num_edges=98228)]\n",
      "[Block(num_src_nodes=58773, num_dst_nodes=1280, num_edges=122317)]\n"
     ]
    },
    {
     "name": "stderr",
     "output_type": "stream",
     "text": [
      " 33%|███▎      | 44/132 [00:06<00:12,  7.02it/s]"
     ]
    },
    {
     "name": "stdout",
     "output_type": "stream",
     "text": [
      "[Block(num_src_nodes=48868, num_dst_nodes=1280, num_edges=99799)]\n",
      "[Block(num_src_nodes=53968, num_dst_nodes=1280, num_edges=110055)]\n"
     ]
    },
    {
     "name": "stderr",
     "output_type": "stream",
     "text": [
      " 35%|███▍      | 46/132 [00:06<00:10,  8.07it/s]"
     ]
    },
    {
     "name": "stdout",
     "output_type": "stream",
     "text": [
      "[Block(num_src_nodes=46003, num_dst_nodes=1280, num_edges=93454)]\n",
      "[Block(num_src_nodes=52328, num_dst_nodes=1280, num_edges=108151)]\n"
     ]
    },
    {
     "name": "stderr",
     "output_type": "stream",
     "text": [
      " 36%|███▋      | 48/132 [00:06<00:11,  7.46it/s]"
     ]
    },
    {
     "name": "stdout",
     "output_type": "stream",
     "text": [
      "[Block(num_src_nodes=54227, num_dst_nodes=1280, num_edges=109264)]\n",
      "[Block(num_src_nodes=59959, num_dst_nodes=1280, num_edges=123474)]\n"
     ]
    },
    {
     "name": "stderr",
     "output_type": "stream",
     "text": [
      " 38%|███▊      | 50/132 [00:06<00:11,  7.21it/s]"
     ]
    },
    {
     "name": "stdout",
     "output_type": "stream",
     "text": [
      "[Block(num_src_nodes=69972, num_dst_nodes=1280, num_edges=137301)]\n",
      "[Block(num_src_nodes=48868, num_dst_nodes=1280, num_edges=100056)]\n"
     ]
    },
    {
     "name": "stderr",
     "output_type": "stream",
     "text": [
      " 39%|███▉      | 52/132 [00:07<00:11,  7.17it/s]"
     ]
    },
    {
     "name": "stdout",
     "output_type": "stream",
     "text": [
      "[Block(num_src_nodes=57694, num_dst_nodes=1280, num_edges=111638)]\n",
      "[Block(num_src_nodes=50877, num_dst_nodes=1280, num_edges=102878)]\n"
     ]
    },
    {
     "name": "stderr",
     "output_type": "stream",
     "text": [
      " 40%|████      | 53/132 [00:07<00:10,  7.73it/s]"
     ]
    },
    {
     "name": "stdout",
     "output_type": "stream",
     "text": [
      "[Block(num_src_nodes=50377, num_dst_nodes=1280, num_edges=103601)]\n",
      "[Block(num_src_nodes=53171, num_dst_nodes=1280, num_edges=110057)]\n",
      "[Block(num_src_nodes=52468, num_dst_nodes=1280, num_edges=102956)]\n"
     ]
    },
    {
     "name": "stderr",
     "output_type": "stream",
     "text": [
      " 43%|████▎     | 57/132 [00:07<00:09,  8.17it/s]"
     ]
    },
    {
     "name": "stdout",
     "output_type": "stream",
     "text": [
      "[Block(num_src_nodes=67719, num_dst_nodes=1280, num_edges=128234)]\n",
      "[Block(num_src_nodes=46103, num_dst_nodes=1280, num_edges=92639)]\n",
      "[Block(num_src_nodes=56113, num_dst_nodes=1280, num_edges=117203)]\n"
     ]
    },
    {
     "name": "stderr",
     "output_type": "stream",
     "text": [
      " 45%|████▌     | 60/132 [00:08<00:09,  7.58it/s]"
     ]
    },
    {
     "name": "stdout",
     "output_type": "stream",
     "text": [
      "[Block(num_src_nodes=49732, num_dst_nodes=1280, num_edges=100799)]\n",
      "[Block(num_src_nodes=41540, num_dst_nodes=1280, num_edges=86491)]\n"
     ]
    },
    {
     "name": "stderr",
     "output_type": "stream",
     "text": [
      " 47%|████▋     | 62/132 [00:08<00:09,  7.29it/s]"
     ]
    },
    {
     "name": "stdout",
     "output_type": "stream",
     "text": [
      "[Block(num_src_nodes=48856, num_dst_nodes=1280, num_edges=97886)]\n",
      "[Block(num_src_nodes=52803, num_dst_nodes=1280, num_edges=105644)]\n"
     ]
    },
    {
     "name": "stderr",
     "output_type": "stream",
     "text": [
      " 48%|████▊     | 63/132 [00:08<00:10,  6.56it/s]"
     ]
    },
    {
     "name": "stdout",
     "output_type": "stream",
     "text": [
      "[Block(num_src_nodes=47820, num_dst_nodes=1280, num_edges=98479)]\n",
      "[Block(num_src_nodes=45691, num_dst_nodes=1280, num_edges=96323)]\n"
     ]
    },
    {
     "name": "stderr",
     "output_type": "stream",
     "text": [
      " 50%|█████     | 66/132 [00:09<00:10,  6.16it/s]"
     ]
    },
    {
     "name": "stdout",
     "output_type": "stream",
     "text": [
      "[Block(num_src_nodes=48795, num_dst_nodes=1280, num_edges=99468)]\n",
      "[Block(num_src_nodes=54788, num_dst_nodes=1280, num_edges=112796)]\n"
     ]
    },
    {
     "name": "stderr",
     "output_type": "stream",
     "text": [
      " 52%|█████▏    | 68/132 [00:09<00:10,  6.23it/s]"
     ]
    },
    {
     "name": "stdout",
     "output_type": "stream",
     "text": [
      "[Block(num_src_nodes=46175, num_dst_nodes=1280, num_edges=93738)]\n",
      "[Block(num_src_nodes=57405, num_dst_nodes=1280, num_edges=119051)]\n"
     ]
    },
    {
     "name": "stderr",
     "output_type": "stream",
     "text": [
      " 53%|█████▎    | 70/132 [00:09<00:09,  6.56it/s]"
     ]
    },
    {
     "name": "stdout",
     "output_type": "stream",
     "text": [
      "[Block(num_src_nodes=52422, num_dst_nodes=1280, num_edges=106994)]\n",
      "[Block(num_src_nodes=54207, num_dst_nodes=1280, num_edges=111971)]\n"
     ]
    },
    {
     "name": "stderr",
     "output_type": "stream",
     "text": [
      " 55%|█████▍    | 72/132 [00:10<00:10,  5.74it/s]"
     ]
    },
    {
     "name": "stdout",
     "output_type": "stream",
     "text": [
      "[Block(num_src_nodes=51939, num_dst_nodes=1280, num_edges=108708)]\n",
      "[Block(num_src_nodes=44447, num_dst_nodes=1280, num_edges=87685)]\n"
     ]
    },
    {
     "name": "stderr",
     "output_type": "stream",
     "text": [
      " 56%|█████▌    | 74/132 [00:10<00:09,  6.30it/s]"
     ]
    },
    {
     "name": "stdout",
     "output_type": "stream",
     "text": [
      "[Block(num_src_nodes=49408, num_dst_nodes=1280, num_edges=104160)]\n",
      "[Block(num_src_nodes=45767, num_dst_nodes=1280, num_edges=93463)]\n"
     ]
    },
    {
     "name": "stderr",
     "output_type": "stream",
     "text": [
      " 57%|█████▋    | 75/132 [00:10<00:09,  5.84it/s]"
     ]
    },
    {
     "name": "stdout",
     "output_type": "stream",
     "text": [
      "[Block(num_src_nodes=51625, num_dst_nodes=1280, num_edges=99558)]\n"
     ]
    },
    {
     "name": "stderr",
     "output_type": "stream",
     "text": [
      " 59%|█████▉    | 78/132 [00:11<00:07,  6.98it/s]"
     ]
    },
    {
     "name": "stdout",
     "output_type": "stream",
     "text": [
      "[Block(num_src_nodes=49778, num_dst_nodes=1280, num_edges=100658)]\n",
      "[Block(num_src_nodes=45244, num_dst_nodes=1280, num_edges=92488)]\n",
      "[Block(num_src_nodes=47008, num_dst_nodes=1280, num_edges=97529)]\n"
     ]
    },
    {
     "name": "stderr",
     "output_type": "stream",
     "text": [
      " 60%|█████▉    | 79/132 [00:11<00:09,  5.56it/s]"
     ]
    },
    {
     "name": "stdout",
     "output_type": "stream",
     "text": [
      "[Block(num_src_nodes=45994, num_dst_nodes=1280, num_edges=95063)]\n",
      "[Block(num_src_nodes=45907, num_dst_nodes=1280, num_edges=93523)]\n",
      "[Block(num_src_nodes=51681, num_dst_nodes=1280, num_edges=105367)]"
     ]
    },
    {
     "name": "stderr",
     "output_type": "stream",
     "text": [
      " 62%|██████▏   | 82/132 [00:11<00:06,  8.23it/s]"
     ]
    },
    {
     "name": "stdout",
     "output_type": "stream",
     "text": [
      "\n",
      "[Block(num_src_nodes=51279, num_dst_nodes=1280, num_edges=106877)]\n",
      "[Block(num_src_nodes=47672, num_dst_nodes=1280, num_edges=100259)]\n"
     ]
    },
    {
     "name": "stderr",
     "output_type": "stream",
     "text": [
      " 64%|██████▍   | 85/132 [00:11<00:05,  8.15it/s]"
     ]
    },
    {
     "name": "stdout",
     "output_type": "stream",
     "text": [
      "[Block(num_src_nodes=51644, num_dst_nodes=1280, num_edges=108138)]\n",
      "[Block(num_src_nodes=54193, num_dst_nodes=1280, num_edges=110463)]\n",
      "[Block(num_src_nodes=50714, num_dst_nodes=1280, num_edges=100422)]\n",
      "[Block(num_src_nodes=59127, num_dst_nodes=1280, num_edges=112832)]\n"
     ]
    },
    {
     "name": "stderr",
     "output_type": "stream",
     "text": [
      " 67%|██████▋   | 89/132 [00:12<00:06,  6.92it/s]"
     ]
    },
    {
     "name": "stdout",
     "output_type": "stream",
     "text": [
      "[Block(num_src_nodes=50824, num_dst_nodes=1280, num_edges=104626)]\n",
      "[Block(num_src_nodes=66868, num_dst_nodes=1280, num_edges=148169)]\n"
     ]
    },
    {
     "name": "stderr",
     "output_type": "stream",
     "text": [
      " 69%|██████▉   | 91/132 [00:12<00:05,  6.97it/s]"
     ]
    },
    {
     "name": "stdout",
     "output_type": "stream",
     "text": [
      "[Block(num_src_nodes=45387, num_dst_nodes=1280, num_edges=92347)]\n",
      "[Block(num_src_nodes=44258, num_dst_nodes=1280, num_edges=88943)]\n"
     ]
    },
    {
     "name": "stderr",
     "output_type": "stream",
     "text": [
      " 70%|███████   | 93/132 [00:13<00:05,  6.96it/s]"
     ]
    },
    {
     "name": "stdout",
     "output_type": "stream",
     "text": [
      "[Block(num_src_nodes=52580, num_dst_nodes=1280, num_edges=107205)]\n",
      "[Block(num_src_nodes=48430, num_dst_nodes=1280, num_edges=99509)]\n"
     ]
    },
    {
     "name": "stderr",
     "output_type": "stream",
     "text": [
      " 72%|███████▏  | 95/132 [00:13<00:04,  8.12it/s]"
     ]
    },
    {
     "name": "stdout",
     "output_type": "stream",
     "text": [
      "[Block(num_src_nodes=40008, num_dst_nodes=1280, num_edges=81839)]\n",
      "[Block(num_src_nodes=49536, num_dst_nodes=1280, num_edges=101032)]\n",
      "[Block(num_src_nodes=52863, num_dst_nodes=1280, num_edges=107098)]\n"
     ]
    },
    {
     "name": "stderr",
     "output_type": "stream",
     "text": [
      " 73%|███████▎  | 96/132 [00:13<00:05,  7.12it/s]"
     ]
    },
    {
     "name": "stdout",
     "output_type": "stream",
     "text": [
      "[Block(num_src_nodes=54491, num_dst_nodes=1280, num_edges=110079)]\n",
      "[Block(num_src_nodes=46193, num_dst_nodes=1280, num_edges=94647)]\n"
     ]
    },
    {
     "name": "stderr",
     "output_type": "stream",
     "text": [
      " 76%|███████▌  | 100/132 [00:13<00:03,  8.70it/s]"
     ]
    },
    {
     "name": "stdout",
     "output_type": "stream",
     "text": [
      "[Block(num_src_nodes=68883, num_dst_nodes=1280, num_edges=135734)]\n",
      "[Block(num_src_nodes=49272, num_dst_nodes=1280, num_edges=97613)]\n"
     ]
    },
    {
     "name": "stderr",
     "output_type": "stream",
     "text": [
      " 77%|███████▋  | 102/132 [00:14<00:04,  7.49it/s]"
     ]
    },
    {
     "name": "stdout",
     "output_type": "stream",
     "text": [
      "[Block(num_src_nodes=57328, num_dst_nodes=1280, num_edges=110703)]\n",
      "[Block(num_src_nodes=51304, num_dst_nodes=1280, num_edges=104550)]\n"
     ]
    },
    {
     "name": "stderr",
     "output_type": "stream",
     "text": [
      " 79%|███████▉  | 104/132 [00:14<00:04,  6.89it/s]"
     ]
    },
    {
     "name": "stdout",
     "output_type": "stream",
     "text": [
      "[Block(num_src_nodes=48728, num_dst_nodes=1280, num_edges=96335)]\n",
      "[Block(num_src_nodes=46287, num_dst_nodes=1280, num_edges=97543)]\n"
     ]
    },
    {
     "name": "stderr",
     "output_type": "stream",
     "text": [
      " 80%|████████  | 106/132 [00:14<00:03,  8.05it/s]"
     ]
    },
    {
     "name": "stdout",
     "output_type": "stream",
     "text": [
      "[Block(num_src_nodes=46888, num_dst_nodes=1280, num_edges=98219)]\n",
      "[Block(num_src_nodes=45169, num_dst_nodes=1280, num_edges=90517)]\n"
     ]
    },
    {
     "name": "stderr",
     "output_type": "stream",
     "text": [
      " 82%|████████▏ | 108/132 [00:15<00:03,  6.23it/s]"
     ]
    },
    {
     "name": "stdout",
     "output_type": "stream",
     "text": [
      "[Block(num_src_nodes=43594, num_dst_nodes=1280, num_edges=91957)]\n",
      "[Block(num_src_nodes=48317, num_dst_nodes=1280, num_edges=94214)]\n"
     ]
    },
    {
     "name": "stderr",
     "output_type": "stream",
     "text": [
      " 83%|████████▎ | 110/132 [00:15<00:03,  6.28it/s]"
     ]
    },
    {
     "name": "stdout",
     "output_type": "stream",
     "text": [
      "[Block(num_src_nodes=45292, num_dst_nodes=1280, num_edges=91746)]\n",
      "[Block(num_src_nodes=55816, num_dst_nodes=1280, num_edges=113820)]\n"
     ]
    },
    {
     "name": "stderr",
     "output_type": "stream",
     "text": [
      " 85%|████████▍ | 112/132 [00:15<00:03,  6.31it/s]"
     ]
    },
    {
     "name": "stdout",
     "output_type": "stream",
     "text": [
      "[Block(num_src_nodes=48865, num_dst_nodes=1280, num_edges=101270)]\n",
      "[Block(num_src_nodes=46838, num_dst_nodes=1280, num_edges=92084)]\n"
     ]
    },
    {
     "name": "stderr",
     "output_type": "stream",
     "text": [
      " 86%|████████▋ | 114/132 [00:16<00:02,  6.24it/s]"
     ]
    },
    {
     "name": "stdout",
     "output_type": "stream",
     "text": [
      "[Block(num_src_nodes=54798, num_dst_nodes=1280, num_edges=110809)]\n",
      "[Block(num_src_nodes=53518, num_dst_nodes=1280, num_edges=105340)]\n"
     ]
    },
    {
     "name": "stderr",
     "output_type": "stream",
     "text": [
      " 87%|████████▋ | 115/132 [00:16<00:02,  5.79it/s]"
     ]
    },
    {
     "name": "stdout",
     "output_type": "stream",
     "text": [
      "[Block(num_src_nodes=56031, num_dst_nodes=1280, num_edges=114982)]\n",
      "[Block(num_src_nodes=47155, num_dst_nodes=1280, num_edges=96434)]\n"
     ]
    },
    {
     "name": "stderr",
     "output_type": "stream",
     "text": [
      " 89%|████████▉ | 118/132 [00:16<00:02,  6.23it/s]"
     ]
    },
    {
     "name": "stdout",
     "output_type": "stream",
     "text": [
      "[Block(num_src_nodes=52127, num_dst_nodes=1280, num_edges=109329)]\n",
      "[Block(num_src_nodes=53041, num_dst_nodes=1280, num_edges=107303)]\n"
     ]
    },
    {
     "name": "stderr",
     "output_type": "stream",
     "text": [
      " 91%|█████████ | 120/132 [00:17<00:02,  5.55it/s]"
     ]
    },
    {
     "name": "stdout",
     "output_type": "stream",
     "text": [
      "[Block(num_src_nodes=53214, num_dst_nodes=1280, num_edges=105326)]\n",
      "[Block(num_src_nodes=53634, num_dst_nodes=1280, num_edges=107423)]\n"
     ]
    },
    {
     "name": "stderr",
     "output_type": "stream",
     "text": [
      " 92%|█████████▏| 121/132 [00:17<00:02,  5.37it/s]"
     ]
    },
    {
     "name": "stdout",
     "output_type": "stream",
     "text": [
      "[Block(num_src_nodes=49371, num_dst_nodes=1280, num_edges=101466)]\n",
      "[Block(num_src_nodes=58311, num_dst_nodes=1280, num_edges=116971)]\n"
     ]
    },
    {
     "name": "stderr",
     "output_type": "stream",
     "text": [
      " 93%|█████████▎| 123/132 [00:17<00:01,  5.18it/s]"
     ]
    },
    {
     "name": "stdout",
     "output_type": "stream",
     "text": [
      "[Block(num_src_nodes=50816, num_dst_nodes=1280, num_edges=105407)]\n",
      "[Block(num_src_nodes=46941, num_dst_nodes=1280, num_edges=95007)]\n"
     ]
    },
    {
     "name": "stderr",
     "output_type": "stream",
     "text": [
      " 95%|█████████▍| 125/132 [00:17<00:01,  6.63it/s]"
     ]
    },
    {
     "name": "stdout",
     "output_type": "stream",
     "text": [
      "[Block(num_src_nodes=46399, num_dst_nodes=1280, num_edges=96821)]\n"
     ]
    },
    {
     "name": "stderr",
     "output_type": "stream",
     "text": [
      " 96%|█████████▌| 127/132 [00:18<00:00,  6.08it/s]"
     ]
    },
    {
     "name": "stdout",
     "output_type": "stream",
     "text": [
      "[Block(num_src_nodes=51871, num_dst_nodes=1280, num_edges=108522)]\n",
      "[Block(num_src_nodes=59725, num_dst_nodes=1280, num_edges=120075)]\n"
     ]
    },
    {
     "name": "stderr",
     "output_type": "stream",
     "text": [
      " 97%|█████████▋| 128/132 [00:18<00:00,  6.77it/s]"
     ]
    },
    {
     "name": "stdout",
     "output_type": "stream",
     "text": [
      "[Block(num_src_nodes=46981, num_dst_nodes=1280, num_edges=98204)]\n",
      "[Block(num_src_nodes=47262, num_dst_nodes=1280, num_edges=97448)]\n"
     ]
    },
    {
     "name": "stderr",
     "output_type": "stream",
     "text": [
      " 99%|█████████▉| 131/132 [00:19<00:00,  5.60it/s]"
     ]
    },
    {
     "name": "stdout",
     "output_type": "stream",
     "text": [
      "[Block(num_src_nodes=47884, num_dst_nodes=1280, num_edges=97750)]\n",
      "[Block(num_src_nodes=47860, num_dst_nodes=1280, num_edges=94143)]\n"
     ]
    },
    {
     "name": "stderr",
     "output_type": "stream",
     "text": [
      "100%|██████████| 132/132 [00:19<00:00,  6.90it/s]"
     ]
    },
    {
     "name": "stdout",
     "output_type": "stream",
     "text": [
      "[Block(num_src_nodes=19935, num_dst_nodes=434, num_edges=30028)]\n"
     ]
    },
    {
     "name": "stderr",
     "output_type": "stream",
     "text": [
      "\n"
     ]
    }
   ],
   "source": [
    "import torch\n",
    "\n",
    "with torch.no_grad():\n",
    "    node_emb = model.inference(g, device='cuda').numpy()"
   ]
  },
  {
   "cell_type": "code",
   "execution_count": 6,
   "id": "324e03be-a10c-4f54-bcbc-dd5f2dd95fb8",
   "metadata": {},
   "outputs": [
    {
     "data": {
      "text/plain": [
       "(tensor([     0,      0,      0,  ..., 168112, 168113, 168113]),\n",
       " tensor([ 10441,  10464,  13048,  ..., 166575,  96676, 112156]))"
      ]
     },
     "execution_count": 6,
     "metadata": {},
     "output_type": "execute_result"
    }
   ],
   "source": [
    "g.edges()"
   ]
  },
  {
   "cell_type": "code",
   "execution_count": 28,
   "id": "ea50c2f8-c04b-494c-9748-752f6059fe01",
   "metadata": {},
   "outputs": [
    {
     "data": {
      "text/plain": [
       "tensor([7.8790e+03, 1.0000e+00, 9.6900e+02, 0.0000e+00, 1.0000e+00, 2.0160e+03,\n",
       "        2.0000e+00, 2.0180e+03, 1.0000e+01, 0.0000e+00, 0.0000e+00, 0.0000e+00,\n",
       "        1.0000e+00, 0.0000e+00, 0.0000e+00, 0.0000e+00, 0.0000e+00, 0.0000e+00,\n",
       "        0.0000e+00, 0.0000e+00, 0.0000e+00, 0.0000e+00, 0.0000e+00, 0.0000e+00,\n",
       "        0.0000e+00, 0.0000e+00, 0.0000e+00, 0.0000e+00, 0.0000e+00, 0.0000e+00])"
      ]
     },
     "execution_count": 28,
     "metadata": {},
     "output_type": "execute_result"
    }
   ],
   "source": [
    "g.ndata['feat'][0]"
   ]
  },
  {
   "cell_type": "code",
   "execution_count": 29,
   "id": "e3b984a0-6883-4662-9082-23385ce58ffe",
   "metadata": {},
   "outputs": [
    {
     "data": {
      "text/plain": [
       "tensor([5.8640e+03, 0.0000e+00, 1.1340e+03, 0.0000e+00, 0.0000e+00, 2.0150e+03,\n",
       "        9.0000e+00, 2.0180e+03, 1.0000e+01, 0.0000e+00, 0.0000e+00, 1.0000e+00,\n",
       "        0.0000e+00, 0.0000e+00, 0.0000e+00, 0.0000e+00, 0.0000e+00, 0.0000e+00,\n",
       "        0.0000e+00, 0.0000e+00, 0.0000e+00, 0.0000e+00, 0.0000e+00, 0.0000e+00,\n",
       "        0.0000e+00, 0.0000e+00, 0.0000e+00, 0.0000e+00, 0.0000e+00, 0.0000e+00])"
      ]
     },
     "execution_count": 29,
     "metadata": {},
     "output_type": "execute_result"
    }
   ],
   "source": [
    "g.ndata['feat'][10441]"
   ]
  },
  {
   "cell_type": "code",
   "execution_count": 16,
   "id": "d24bede4-9230-434e-a699-9e8e389de9cd",
   "metadata": {},
   "outputs": [
    {
     "data": {
      "text/plain": [
       "tensor([[5.7700]], device='cuda:0', grad_fn=<AddmmBackward0>)"
      ]
     },
     "execution_count": 16,
     "metadata": {},
     "output_type": "execute_result"
    }
   ],
   "source": [
    "device='cuda'\n",
    "model.predict(\n",
    "    torch.from_numpy(node_emb[0]).view(1, -1).to(device), \n",
    "    torch.from_numpy(node_emb[10441]).view(1, -1).to(device)\n",
    ")"
   ]
  },
  {
   "cell_type": "code",
   "execution_count": 21,
   "id": "87cdc272-195c-4bbe-b024-f38c825d65c6",
   "metadata": {},
   "outputs": [
    {
     "data": {
      "text/plain": [
       "tensor([[-5207.7925]], device='cuda:0', grad_fn=<AddmmBackward0>)"
      ]
     },
     "execution_count": 21,
     "metadata": {},
     "output_type": "execute_result"
    }
   ],
   "source": [
    "model.predict(\n",
    "    torch.from_numpy(node_emb[0]).view(1, -1).to(device), \n",
    "    torch.from_numpy(node_emb[1]).view(1, -1).to(device)\n",
    ")"
   ]
  },
  {
   "cell_type": "markdown",
   "id": "f97f5d37-67fe-4adf-8797-2236226dee34",
   "metadata": {},
   "source": [
    "# Visualisations"
   ]
  },
  {
   "cell_type": "code",
   "execution_count": null,
   "id": "e631d912-ff20-42a0-9817-534229c8c19b",
   "metadata": {},
   "outputs": [],
   "source": [
    "import pandas as pd\n",
    "\n",
    "edges = pd.read_csv('../data/large_twitch_edges.csv')"
   ]
  },
  {
   "cell_type": "code",
   "execution_count": null,
   "id": "672e4cdc-d987-4fb0-bd35-384829fa86ba",
   "metadata": {},
   "outputs": [],
   "source": [
    "sample_edges = edges.sample(100)\n",
    "\n",
    "import networkx as nx\n",
    "G = nx.from_pandas_edgelist(\n",
    "    sample_edges,\n",
    "    source='numeric_id_1',\n",
    "    target='numeric_id_2'\n",
    ")\n",
    "\n",
    "nx.draw_networkx(G)"
   ]
  },
  {
   "cell_type": "code",
   "execution_count": null,
   "id": "fc5b173b-156e-4d62-a248-098180bc089a",
   "metadata": {},
   "outputs": [],
   "source": [
    "import networkx as nx\n",
    "from pyviz.network import Network\n",
    "\n",
    "G = nx.from_pandas_edgelist(\n",
    "    sample_edges,\n",
    "    source='numeric_id_1',\n",
    "    target='numeric_id_2'\n",
    ")\n",
    "net = Network(notebook=True)\n",
    "net.from_nx(G)\n",
    "net.show('graph.html')"
   ]
  },
  {
   "cell_type": "code",
   "execution_count": null,
   "id": "753ae31f-0a33-471e-8146-c876508c7a63",
   "metadata": {},
   "outputs": [],
   "source": []
  }
 ],
 "metadata": {
  "kernelspec": {
   "display_name": "Python 3",
   "language": "python",
   "name": "python3"
  },
  "language_info": {
   "codemirror_mode": {
    "name": "ipython",
    "version": 3
   },
   "file_extension": ".py",
   "mimetype": "text/x-python",
   "name": "python",
   "nbconvert_exporter": "python",
   "pygments_lexer": "ipython3",
   "version": "3.8.10"
  }
 },
 "nbformat": 4,
 "nbformat_minor": 5
}
